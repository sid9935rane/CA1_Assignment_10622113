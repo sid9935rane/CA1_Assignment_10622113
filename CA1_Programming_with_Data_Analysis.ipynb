{
  "nbformat": 4,
  "nbformat_minor": 0,
  "metadata": {
    "colab": {
      "provenance": [],
      "authorship_tag": "ABX9TyM+bX42XGR+WP/w0lcdigtI",
      "include_colab_link": true
    },
    "kernelspec": {
      "name": "python3",
      "display_name": "Python 3"
    },
    "language_info": {
      "name": "python"
    }
  },
  "cells": [
    {
      "cell_type": "markdown",
      "metadata": {
        "id": "view-in-github",
        "colab_type": "text"
      },
      "source": [
        "<a href=\"https://colab.research.google.com/github/sid9935rane/CA1_Assignment_10622113/blob/main/CA1_Programming_with_Data_Analysis.ipynb\" target=\"_parent\"><img src=\"https://colab.research.google.com/assets/colab-badge.svg\" alt=\"Open In Colab\"/></a>"
      ]
    },
    {
      "cell_type": "code",
      "execution_count": 1,
      "metadata": {
        "colab": {
          "base_uri": "https://localhost:8080/"
        },
        "id": "yOG-Cv-8cRDh",
        "outputId": "5947b8de-aafd-4e3e-a87c-4c7be40cdb75"
      },
      "outputs": [
        {
          "output_type": "stream",
          "name": "stdout",
          "text": [
            "Hello World\n"
          ]
        }
      ],
      "source": [
        "print(\"Hello World\")"
      ]
    },
    {
      "cell_type": "markdown",
      "source": [
        "Install the Packages "
      ],
      "metadata": {
        "id": "VU5ENXoGcIvI"
      }
    },
    {
      "cell_type": "code",
      "source": [
        "pip install requests"
      ],
      "metadata": {
        "id": "NgtuF-zrcXQ3",
        "colab": {
          "base_uri": "https://localhost:8080/"
        },
        "outputId": "66e1e5d4-d311-4eda-d87e-5fb6a77d5751"
      },
      "execution_count": 2,
      "outputs": [
        {
          "output_type": "stream",
          "name": "stdout",
          "text": [
            "Looking in indexes: https://pypi.org/simple, https://us-python.pkg.dev/colab-wheels/public/simple/\n",
            "Requirement already satisfied: requests in /usr/local/lib/python3.8/dist-packages (2.23.0)\n",
            "Requirement already satisfied: certifi>=2017.4.17 in /usr/local/lib/python3.8/dist-packages (from requests) (2022.9.24)\n",
            "Requirement already satisfied: chardet<4,>=3.0.2 in /usr/local/lib/python3.8/dist-packages (from requests) (3.0.4)\n",
            "Requirement already satisfied: idna<3,>=2.5 in /usr/local/lib/python3.8/dist-packages (from requests) (2.10)\n",
            "Requirement already satisfied: urllib3!=1.25.0,!=1.25.1,<1.26,>=1.21.1 in /usr/local/lib/python3.8/dist-packages (from requests) (1.24.3)\n"
          ]
        }
      ]
    },
    {
      "cell_type": "code",
      "source": [
        "pip install html5lib"
      ],
      "metadata": {
        "colab": {
          "base_uri": "https://localhost:8080/"
        },
        "id": "ienOcDWZbTQ5",
        "outputId": "250d05bd-4641-4e98-a441-4a50339eac9d"
      },
      "execution_count": 3,
      "outputs": [
        {
          "output_type": "stream",
          "name": "stdout",
          "text": [
            "Looking in indexes: https://pypi.org/simple, https://us-python.pkg.dev/colab-wheels/public/simple/\n",
            "Requirement already satisfied: html5lib in /usr/local/lib/python3.8/dist-packages (1.0.1)\n",
            "Requirement already satisfied: six>=1.9 in /usr/local/lib/python3.8/dist-packages (from html5lib) (1.15.0)\n",
            "Requirement already satisfied: webencodings in /usr/local/lib/python3.8/dist-packages (from html5lib) (0.5.1)\n"
          ]
        }
      ]
    },
    {
      "cell_type": "code",
      "source": [
        "pip install bs4"
      ],
      "metadata": {
        "colab": {
          "base_uri": "https://localhost:8080/"
        },
        "id": "QZ0yDiMxbbn5",
        "outputId": "073d7192-38de-4791-d791-4ac350de7a62"
      },
      "execution_count": 4,
      "outputs": [
        {
          "output_type": "stream",
          "name": "stdout",
          "text": [
            "Looking in indexes: https://pypi.org/simple, https://us-python.pkg.dev/colab-wheels/public/simple/\n",
            "Requirement already satisfied: bs4 in /usr/local/lib/python3.8/dist-packages (0.0.1)\n",
            "Requirement already satisfied: beautifulsoup4 in /usr/local/lib/python3.8/dist-packages (from bs4) (4.6.3)\n"
          ]
        }
      ]
    },
    {
      "cell_type": "code",
      "source": [
        "import requests"
      ],
      "metadata": {
        "id": "uuMUnFC43tHQ"
      },
      "execution_count": 1,
      "outputs": []
    },
    {
      "cell_type": "code",
      "source": [
        "from bs4 import BeautifulSoup"
      ],
      "metadata": {
        "id": "7b1n45lK30e6"
      },
      "execution_count": 2,
      "outputs": []
    },
    {
      "cell_type": "code",
      "source": [
        "url = 'https://www.oyorooms.com/api/pwa/search/hotels?fields=id%2Cname%2Ccity%2Cstreet%2Ccategory%2Cgeo_location%2Ccategory%2Chotel_type%2Calternate_name%2Ccountry_name%2Ccountry_id%2Cshort_address%2Caddress%2Chotel_name_without_category%2Ccategorywise_images%2Ccategory_wise_media%2Ccategory_availability%2Cexternal_booking_url%2Cstatus&additional_fields=hotel_badge%2Ccategory_info%2Ccancellation_policies%2Cbest_image%2Croom_pricing%2Cavailability%2Camenities%2Crestrictions%2Ccategory%2Ccaptains_info%2Cnew_applicable_filters%2Cadditional_charge_info%2Cimages%2Chotel_images%2Ccollection_filtered_count%2Cpopular_location_range%2Cguest_ratings%2Coyo_wizard%2Curgency_info%2Coyo_owner_discount%2Ccategory_wise_pricing&tax_exclusive_pricing=true&available_room_count%5Bcheckin%5D=13%2F12%2F2022&available_room_count%5Bcheckout%5D=14%2F12%2F2022&available_room_count%5Bmin_count%5D=1&filters%5Bcity_id%5D=585&filters%5Ball_room_categories%5D=true&pre_apply_coupon_switch=true&search_redirection_enabled=true&rooms_config=1%2C0%2C0&requested_coupon=&services=meals&source=Web%20Booking&format_response%5Bbatch%5D%5Bcount%5D=20&format_response%5Bbatch%5D%5Boffset%5D=0&format_response%5Bsort_params%5D%5Bsort_on%5D=price&format_response%5Bsort_params%5D%5Bascending%5D=true&locale=en'"
      ],
      "metadata": {
        "id": "Q7uZErjp34DK"
      },
      "execution_count": 3,
      "outputs": []
    },
    {
      "cell_type": "code",
      "source": [
        "data = 'fields=id%2Cname%2Ccity%2Cstreet%2Ccategory%2Cgeo_location%2Ccategory%2Chotel_type%2Calternate_name%2Ccountry_name%2Ccountry_id%2Cshort_address%2Caddress%2Chotel_name_without_category%2Ccategorywise_images%2Ccategory_wise_media%2Ccategory_availability%2Cexternal_booking_url%2Cstatus&additional_fields=hotel_badge%2Ccategory_info%2Ccancellation_policies%2Cbest_image%2Croom_pricing%2Cavailability%2Camenities%2Crestrictions%2Ccategory%2Ccaptains_info%2Cnew_applicable_filters%2Cadditional_charge_info%2Cimages%2Chotel_images%2Ccollection_filtered_count%2Cpopular_location_range%2Cguest_ratings%2Coyo_wizard%2Curgency_info%2Coyo_owner_discount%2Ccategory_wise_pricing&tax_exclusive_pricing=true&available_room_count%5Bcheckin%5D=13%2F12%2F2022&available_room_count%5Bcheckout%5D=14%2F12%2F2022&available_room_count%5Bmin_count%5D=1&filters%5Bcity_id%5D=585&filters%5Ball_room_categories%5D=true&pre_apply_coupon_switch=true&search_redirection_enabled=true&rooms_config=1%2C0%2C0&requested_coupon=&services=meals&source=Web%20Booking&format_response%5Bbatch%5D%5Bcount%5D=20&format_response%5Bbatch%5D%5Boffset%5D=0&format_response%5Bsort_params%5D%5Bsort_on%5D=price&format_response%5Bsort_params%5D%5Bascending%5D=true&locale=en'"
      ],
      "metadata": {
        "id": "wzev3Tr735cp"
      },
      "execution_count": 4,
      "outputs": []
    },
    {
      "cell_type": "code",
      "source": [
        "header = {'accept': '*/*',\n",
        "'accept-encoding': 'gzip, deflate',\n",
        "'accept-language': 'en-GB,en;q=0.9',\n",
        "'cookie': '_csrf=5ItFr1EvNo_-a_rVi9ooZZFD; acc=GB; X-Location=georegion%3D108%2Ccountry_code%3DIE%2Ccity%3DDUBLIN%2Clat%3D53.33%2Clong%3D-6.25%2Ctimezone%3DGMT%2Ccontinent%3DEU%2Cthroughput%3Dlow%2Cbw%3D1%2Cnetwork%3Dupc%2Casnum%3D6830%2Clocation_id%3D0; mab=55d5b82b54501670ff3186dc5f497b9a; appData=%7B%22userData%22%3A%7B%22isLoggedIn%22%3Afalse%7D%7D; token=dUxaRnA5NWJyWFlQYkpQNnEtemo6bzdvX01KLUNFbnRyS3hfdEgyLUE%3D; _uid=Not%20logged%20in; AMP_TOKEN=%24NOT_FOUND; _ga=GA1.2.165232236.1670895643; _gid=GA1.2.876639172.1670895643; fingerprint2=3796e00fb2b73e84c11a45b6cfd03eb7; _gcl_au=1.1.889838671.1670895645; tvc_utm_source=google; tvc_utm_medium=organic; tvc_utm_campaign=(not set); tvc_utm_key=(not set); tvc_utm_content=(not set); moe_uuid=c77a499d-6009-4fc5-a9f3-9146aacb5ebf; _fbp=fb.1.1670895646001.1597362655; _hjFirstSeen=1; _hjIncludedInSessionSample=0; _hjSession_1463432=eyJpZCI6IjU5MGZmNDNmLTAzM2YtNDFlMS04NGIxLThkYzY3ZDMyNThlZiIsImNyZWF0ZWQiOjE2NzA4OTU2NDYxMDAsImluU2FtcGxlIjpmYWxzZX0=; _hjIncludedInPageviewSample=1; _hjAbsoluteSessionInProgress=1; _hjSessionUser_1463432=eyJpZCI6IjRiYmQ0YjNmLTA4MzktNTcyZC1hNTQzLWJkYjk1OTg0MjBiNCIsImNyZWF0ZWQiOjE2NzA4OTU2NDYwOTAsImV4aXN0aW5nIjp0cnVlfQ==; cto_bundle=qrm1Y18yWUpEbGNmdzJWcW9xbDl2S3pqQ0x3Y2NVQlRVYXhYSyUyRlE3JTJGZUJoT0VNc2FtbHZ6M2pHb3pRdkVKU2lERDlIcG03MnlET2ZJa29BUEtXUFB1UWt1bk9Lc3FFZTZmdk51a0RxSTg4S1p0dHI2bkcxJTJCcVV6cGs3UWI3QWxEcGNpeg; _gat=1; _uetsid=29d8f9707a8711eda14af3812bae1402; _uetvid=29da01907a8711ed92088ff24e0e4442; expd=mww2%3A1%7Cioab%3A1%7Cmhdp%3A1%7Cbcrp%3A1%7Cpwbs%3A1%7Chsdm%3A2%7Ccomp%3A1%7Cnrmp%3A1%7Cppsi%3A0%7Cgcer%3A1%7Crecs%3A1%7Clvhm%3A1%7Cgmbr%3A1%7Cyolo%3A1%7Crcta%3A1%7Ccbot%3A1%7Cotpv%3A1%7Cndbp%3A0%7Cmapu%3A1%7Cnclc%3A0%7Cdwsl%3A1%7Ceopt%3A1%7Cotpv%3A1%7Cwizi%3A0%7Cmorr%3A1%7Cyopb%3A1%7CTTP%3A1%7Chdpn%3A1%7Cweb2%3A0%7Clog2%3A1%7Clog2%3A1%7Cugce%3A0%7Cltvr%3A0%7Chwiz%3A0%7Cwizz%3A1%7Clpcp%3A0%7Cclhp%3A0%7Cprwt%3A0%7Ccbhd%3A0%7Cins2%3A2; XSRF-TOKEN=GuxQHwte-PwF9UjVmqebDCHxX-1gAR6VUmWs',\n",
        "'referer': 'https://www.oyorooms.com/search?checkin=13%2F12%2F2022&checkout=14%2F12%2F2022&city=london&filters%5Bcity_id%5D=585&guests=1&latitude=&location=london&longitude=&roomConfig=1&roomConfig%5B%5D=1&rooms=&searchType=&tag=',\n",
        "'sec-ch-ua': '\"Not?A_Brand\";v=\"8\", \"Chromium\";v=\"108\", \"Google Chrome\";v=\"108\"',\n",
        "'sec-ch-ua-mobile': '?0',\n",
        "'sec-ch-ua-platform': '\"Windows\"',\n",
        "'sec-fetch-dest': 'empty',\n",
        "'sec-fetch-mode': 'cors',\n",
        "'sec-fetch-site': 'same-origin',\n",
        "'user-agent': 'Mozilla/5.0 (Windows NT 10.0; Win64; x64) AppleWebKit/537.36 (KHTML, like Gecko) Chrome/108.0.0.0 Safari/537.36',\n",
        "'xsrf-token': 'GuxQHwte-PwF9UjVmqebDCHxX-1gAR6VUmWs'}"
      ],
      "metadata": {
        "id": "RQL9fIAI36yx"
      },
      "execution_count": 5,
      "outputs": []
    },
    {
      "cell_type": "code",
      "source": [
        "r = requests.post(url,data=data,headers=header)"
      ],
      "metadata": {
        "id": "i94o33Pi3875"
      },
      "execution_count": 6,
      "outputs": []
    },
    {
      "cell_type": "code",
      "source": [
        "r.content"
      ],
      "metadata": {
        "id": "WvCDQDc63-W5"
      },
      "execution_count": null,
      "outputs": []
    },
    {
      "cell_type": "code",
      "source": [
        "r"
      ],
      "metadata": {
        "colab": {
          "base_uri": "https://localhost:8080/"
        },
        "id": "eJUa473s3_sZ",
        "outputId": "e98b0a5b-9d94-45d4-eaa8-953f1f26b55e"
      },
      "execution_count": 8,
      "outputs": [
        {
          "output_type": "execute_result",
          "data": {
            "text/plain": [
              "<Response [200]>"
            ]
          },
          "metadata": {},
          "execution_count": 8
        }
      ]
    },
    {
      "cell_type": "code",
      "source": [
        "import json "
      ],
      "metadata": {
        "id": "u2vzXrYZ4CP4"
      },
      "execution_count": 9,
      "outputs": []
    },
    {
      "cell_type": "code",
      "source": [
        "rdata = json.loads(r.content)"
      ],
      "metadata": {
        "id": "2p7LS2R24GGQ"
      },
      "execution_count": 11,
      "outputs": []
    },
    {
      "cell_type": "code",
      "source": [
        "hotels=rdata['hotels']"
      ],
      "metadata": {
        "id": "daS_FK7p4H5J"
      },
      "execution_count": 12,
      "outputs": []
    },
    {
      "cell_type": "code",
      "source": [
        "len(hotels)"
      ],
      "metadata": {
        "colab": {
          "base_uri": "https://localhost:8080/"
        },
        "id": "p1DUUCcq4JtI",
        "outputId": "fe688499-4f4f-4444-c3e3-59c56cfbb92f"
      },
      "execution_count": 13,
      "outputs": [
        {
          "output_type": "execute_result",
          "data": {
            "text/plain": [
              "17"
            ]
          },
          "metadata": {},
          "execution_count": 13
        }
      ]
    },
    {
      "cell_type": "code",
      "source": [
        "h=[]\n",
        "for i in range(0, 16):\n",
        "  hotels = json.loads(requests.post(url,data=data,headers=header).content)['hotels']\n",
        "  print('.',end='')\n",
        "  h=h+hotels"
      ],
      "metadata": {
        "colab": {
          "base_uri": "https://localhost:8080/"
        },
        "id": "2WLgE1Bt4LP6",
        "outputId": "3514c22e-0ab5-4c21-f550-14f88e163d2d"
      },
      "execution_count": 14,
      "outputs": [
        {
          "output_type": "stream",
          "name": "stdout",
          "text": [
            "................"
          ]
        }
      ]
    },
    {
      "cell_type": "code",
      "source": [
        "len(h)"
      ],
      "metadata": {
        "colab": {
          "base_uri": "https://localhost:8080/"
        },
        "id": "tgaeTPHI4ND6",
        "outputId": "4493a065-5160-4e8c-90d0-02d0a4cef16c"
      },
      "execution_count": 15,
      "outputs": [
        {
          "output_type": "execute_result",
          "data": {
            "text/plain": [
              "272"
            ]
          },
          "metadata": {},
          "execution_count": 15
        }
      ]
    },
    {
      "cell_type": "code",
      "source": [
        "import pandas as pd"
      ],
      "metadata": {
        "id": "vhcQyl_l4POY"
      },
      "execution_count": 16,
      "outputs": []
    },
    {
      "cell_type": "code",
      "source": [
        "df=pd.json_normalize(h)"
      ],
      "metadata": {
        "id": "kfzQcC894V85"
      },
      "execution_count": 17,
      "outputs": []
    },
    {
      "cell_type": "code",
      "source": [
        "df.head()"
      ],
      "metadata": {
        "colab": {
          "base_uri": "https://localhost:8080/",
          "height": 563
        },
        "id": "ccdNszp94Xi5",
        "outputId": "f0b1afb1-841e-49d4-e64c-f32923d848b2"
      },
      "execution_count": 19,
      "outputs": [
        {
          "output_type": "execute_result",
          "data": {
            "text/plain": [
              "   shortlisted  show_original_name urgency_info_list  longitude   latitude  \\\n",
              "0        False               False                []  -0.224771  51.503275   \n",
              "1        False               False                []  -0.197408  51.575632   \n",
              "2        False               False                []   0.065732  51.563967   \n",
              "3        False               False                []  -0.168496  51.517780   \n",
              "4        False               False                []  -0.269641  51.513979   \n",
              "\n",
              "   currency_id  selected_category_id  country_id      id     oyo_id  ...  \\\n",
              "0           14                    36         210   54366  EN_LDN059  ...   \n",
              "1           14                    36         210  106636  EN_BNE001  ...   \n",
              "2           14                    37         210   50258  EN_LDN028  ...   \n",
              "3           14                284723         210   42761  EN_LDN004  ...   \n",
              "4           14                    36         210   56254  EN_LDN088  ...   \n",
              "\n",
              "  category_wise_images.283594.category_images  \\\n",
              "0                                         NaN   \n",
              "1                                         NaN   \n",
              "2                                         NaN   \n",
              "3                                         NaN   \n",
              "4                                         NaN   \n",
              "\n",
              "  category_wise_images.283594.combined_images  \\\n",
              "0                                         NaN   \n",
              "1                                         NaN   \n",
              "2                                         NaN   \n",
              "3                                         NaN   \n",
              "4                                         NaN   \n",
              "\n",
              "  category_wise_images.283594.hotel_images  \\\n",
              "0                                      NaN   \n",
              "1                                      NaN   \n",
              "2                                      NaN   \n",
              "3                                      NaN   \n",
              "4                                      NaN   \n",
              "\n",
              "  category_wise_images.283594.best_image  \\\n",
              "0                                    NaN   \n",
              "1                                    NaN   \n",
              "2                                    NaN   \n",
              "3                                    NaN   \n",
              "4                                    NaN   \n",
              "\n",
              "  category_wise_media.283594.best_media.url  \\\n",
              "0                                       NaN   \n",
              "1                                       NaN   \n",
              "2                                       NaN   \n",
              "3                                       NaN   \n",
              "4                                       NaN   \n",
              "\n",
              "  category_wise_media.283594.best_media.type  \\\n",
              "0                                        NaN   \n",
              "1                                        NaN   \n",
              "2                                        NaN   \n",
              "3                                        NaN   \n",
              "4                                        NaN   \n",
              "\n",
              "  category_wise_media.283594.best_media.extension  \\\n",
              "0                                             NaN   \n",
              "1                                             NaN   \n",
              "2                                             NaN   \n",
              "3                                             NaN   \n",
              "4                                             NaN   \n",
              "\n",
              "  category_wise_media.283594.best_media.category  \\\n",
              "0                                            NaN   \n",
              "1                                            NaN   \n",
              "2                                            NaN   \n",
              "3                                            NaN   \n",
              "4                                            NaN   \n",
              "\n",
              "  category_wise_media.283594.category_media  \\\n",
              "0                                       NaN   \n",
              "1                                       NaN   \n",
              "2                                       NaN   \n",
              "3                                       NaN   \n",
              "4                                       NaN   \n",
              "\n",
              "  category_wise_media.283594.combined_media  \n",
              "0                                       NaN  \n",
              "1                                       NaN  \n",
              "2                                       NaN  \n",
              "3                                       NaN  \n",
              "4                                       NaN  \n",
              "\n",
              "[5 rows x 613 columns]"
            ],
            "text/html": [
              "\n",
              "  <div id=\"df-55651b99-625a-4f46-b961-3a4332f96d31\">\n",
              "    <div class=\"colab-df-container\">\n",
              "      <div>\n",
              "<style scoped>\n",
              "    .dataframe tbody tr th:only-of-type {\n",
              "        vertical-align: middle;\n",
              "    }\n",
              "\n",
              "    .dataframe tbody tr th {\n",
              "        vertical-align: top;\n",
              "    }\n",
              "\n",
              "    .dataframe thead th {\n",
              "        text-align: right;\n",
              "    }\n",
              "</style>\n",
              "<table border=\"1\" class=\"dataframe\">\n",
              "  <thead>\n",
              "    <tr style=\"text-align: right;\">\n",
              "      <th></th>\n",
              "      <th>shortlisted</th>\n",
              "      <th>show_original_name</th>\n",
              "      <th>urgency_info_list</th>\n",
              "      <th>longitude</th>\n",
              "      <th>latitude</th>\n",
              "      <th>currency_id</th>\n",
              "      <th>selected_category_id</th>\n",
              "      <th>country_id</th>\n",
              "      <th>id</th>\n",
              "      <th>oyo_id</th>\n",
              "      <th>...</th>\n",
              "      <th>category_wise_images.283594.category_images</th>\n",
              "      <th>category_wise_images.283594.combined_images</th>\n",
              "      <th>category_wise_images.283594.hotel_images</th>\n",
              "      <th>category_wise_images.283594.best_image</th>\n",
              "      <th>category_wise_media.283594.best_media.url</th>\n",
              "      <th>category_wise_media.283594.best_media.type</th>\n",
              "      <th>category_wise_media.283594.best_media.extension</th>\n",
              "      <th>category_wise_media.283594.best_media.category</th>\n",
              "      <th>category_wise_media.283594.category_media</th>\n",
              "      <th>category_wise_media.283594.combined_media</th>\n",
              "    </tr>\n",
              "  </thead>\n",
              "  <tbody>\n",
              "    <tr>\n",
              "      <th>0</th>\n",
              "      <td>False</td>\n",
              "      <td>False</td>\n",
              "      <td>[]</td>\n",
              "      <td>-0.224771</td>\n",
              "      <td>51.503275</td>\n",
              "      <td>14</td>\n",
              "      <td>36</td>\n",
              "      <td>210</td>\n",
              "      <td>54366</td>\n",
              "      <td>EN_LDN059</td>\n",
              "      <td>...</td>\n",
              "      <td>NaN</td>\n",
              "      <td>NaN</td>\n",
              "      <td>NaN</td>\n",
              "      <td>NaN</td>\n",
              "      <td>NaN</td>\n",
              "      <td>NaN</td>\n",
              "      <td>NaN</td>\n",
              "      <td>NaN</td>\n",
              "      <td>NaN</td>\n",
              "      <td>NaN</td>\n",
              "    </tr>\n",
              "    <tr>\n",
              "      <th>1</th>\n",
              "      <td>False</td>\n",
              "      <td>False</td>\n",
              "      <td>[]</td>\n",
              "      <td>-0.197408</td>\n",
              "      <td>51.575632</td>\n",
              "      <td>14</td>\n",
              "      <td>36</td>\n",
              "      <td>210</td>\n",
              "      <td>106636</td>\n",
              "      <td>EN_BNE001</td>\n",
              "      <td>...</td>\n",
              "      <td>NaN</td>\n",
              "      <td>NaN</td>\n",
              "      <td>NaN</td>\n",
              "      <td>NaN</td>\n",
              "      <td>NaN</td>\n",
              "      <td>NaN</td>\n",
              "      <td>NaN</td>\n",
              "      <td>NaN</td>\n",
              "      <td>NaN</td>\n",
              "      <td>NaN</td>\n",
              "    </tr>\n",
              "    <tr>\n",
              "      <th>2</th>\n",
              "      <td>False</td>\n",
              "      <td>False</td>\n",
              "      <td>[]</td>\n",
              "      <td>0.065732</td>\n",
              "      <td>51.563967</td>\n",
              "      <td>14</td>\n",
              "      <td>37</td>\n",
              "      <td>210</td>\n",
              "      <td>50258</td>\n",
              "      <td>EN_LDN028</td>\n",
              "      <td>...</td>\n",
              "      <td>NaN</td>\n",
              "      <td>NaN</td>\n",
              "      <td>NaN</td>\n",
              "      <td>NaN</td>\n",
              "      <td>NaN</td>\n",
              "      <td>NaN</td>\n",
              "      <td>NaN</td>\n",
              "      <td>NaN</td>\n",
              "      <td>NaN</td>\n",
              "      <td>NaN</td>\n",
              "    </tr>\n",
              "    <tr>\n",
              "      <th>3</th>\n",
              "      <td>False</td>\n",
              "      <td>False</td>\n",
              "      <td>[]</td>\n",
              "      <td>-0.168496</td>\n",
              "      <td>51.517780</td>\n",
              "      <td>14</td>\n",
              "      <td>284723</td>\n",
              "      <td>210</td>\n",
              "      <td>42761</td>\n",
              "      <td>EN_LDN004</td>\n",
              "      <td>...</td>\n",
              "      <td>NaN</td>\n",
              "      <td>NaN</td>\n",
              "      <td>NaN</td>\n",
              "      <td>NaN</td>\n",
              "      <td>NaN</td>\n",
              "      <td>NaN</td>\n",
              "      <td>NaN</td>\n",
              "      <td>NaN</td>\n",
              "      <td>NaN</td>\n",
              "      <td>NaN</td>\n",
              "    </tr>\n",
              "    <tr>\n",
              "      <th>4</th>\n",
              "      <td>False</td>\n",
              "      <td>False</td>\n",
              "      <td>[]</td>\n",
              "      <td>-0.269641</td>\n",
              "      <td>51.513979</td>\n",
              "      <td>14</td>\n",
              "      <td>36</td>\n",
              "      <td>210</td>\n",
              "      <td>56254</td>\n",
              "      <td>EN_LDN088</td>\n",
              "      <td>...</td>\n",
              "      <td>NaN</td>\n",
              "      <td>NaN</td>\n",
              "      <td>NaN</td>\n",
              "      <td>NaN</td>\n",
              "      <td>NaN</td>\n",
              "      <td>NaN</td>\n",
              "      <td>NaN</td>\n",
              "      <td>NaN</td>\n",
              "      <td>NaN</td>\n",
              "      <td>NaN</td>\n",
              "    </tr>\n",
              "  </tbody>\n",
              "</table>\n",
              "<p>5 rows × 613 columns</p>\n",
              "</div>\n",
              "      <button class=\"colab-df-convert\" onclick=\"convertToInteractive('df-55651b99-625a-4f46-b961-3a4332f96d31')\"\n",
              "              title=\"Convert this dataframe to an interactive table.\"\n",
              "              style=\"display:none;\">\n",
              "        \n",
              "  <svg xmlns=\"http://www.w3.org/2000/svg\" height=\"24px\"viewBox=\"0 0 24 24\"\n",
              "       width=\"24px\">\n",
              "    <path d=\"M0 0h24v24H0V0z\" fill=\"none\"/>\n",
              "    <path d=\"M18.56 5.44l.94 2.06.94-2.06 2.06-.94-2.06-.94-.94-2.06-.94 2.06-2.06.94zm-11 1L8.5 8.5l.94-2.06 2.06-.94-2.06-.94L8.5 2.5l-.94 2.06-2.06.94zm10 10l.94 2.06.94-2.06 2.06-.94-2.06-.94-.94-2.06-.94 2.06-2.06.94z\"/><path d=\"M17.41 7.96l-1.37-1.37c-.4-.4-.92-.59-1.43-.59-.52 0-1.04.2-1.43.59L10.3 9.45l-7.72 7.72c-.78.78-.78 2.05 0 2.83L4 21.41c.39.39.9.59 1.41.59.51 0 1.02-.2 1.41-.59l7.78-7.78 2.81-2.81c.8-.78.8-2.07 0-2.86zM5.41 20L4 18.59l7.72-7.72 1.47 1.35L5.41 20z\"/>\n",
              "  </svg>\n",
              "      </button>\n",
              "      \n",
              "  <style>\n",
              "    .colab-df-container {\n",
              "      display:flex;\n",
              "      flex-wrap:wrap;\n",
              "      gap: 12px;\n",
              "    }\n",
              "\n",
              "    .colab-df-convert {\n",
              "      background-color: #E8F0FE;\n",
              "      border: none;\n",
              "      border-radius: 50%;\n",
              "      cursor: pointer;\n",
              "      display: none;\n",
              "      fill: #1967D2;\n",
              "      height: 32px;\n",
              "      padding: 0 0 0 0;\n",
              "      width: 32px;\n",
              "    }\n",
              "\n",
              "    .colab-df-convert:hover {\n",
              "      background-color: #E2EBFA;\n",
              "      box-shadow: 0px 1px 2px rgba(60, 64, 67, 0.3), 0px 1px 3px 1px rgba(60, 64, 67, 0.15);\n",
              "      fill: #174EA6;\n",
              "    }\n",
              "\n",
              "    [theme=dark] .colab-df-convert {\n",
              "      background-color: #3B4455;\n",
              "      fill: #D2E3FC;\n",
              "    }\n",
              "\n",
              "    [theme=dark] .colab-df-convert:hover {\n",
              "      background-color: #434B5C;\n",
              "      box-shadow: 0px 1px 3px 1px rgba(0, 0, 0, 0.15);\n",
              "      filter: drop-shadow(0px 1px 2px rgba(0, 0, 0, 0.3));\n",
              "      fill: #FFFFFF;\n",
              "    }\n",
              "  </style>\n",
              "\n",
              "      <script>\n",
              "        const buttonEl =\n",
              "          document.querySelector('#df-55651b99-625a-4f46-b961-3a4332f96d31 button.colab-df-convert');\n",
              "        buttonEl.style.display =\n",
              "          google.colab.kernel.accessAllowed ? 'block' : 'none';\n",
              "\n",
              "        async function convertToInteractive(key) {\n",
              "          const element = document.querySelector('#df-55651b99-625a-4f46-b961-3a4332f96d31');\n",
              "          const dataTable =\n",
              "            await google.colab.kernel.invokeFunction('convertToInteractive',\n",
              "                                                     [key], {});\n",
              "          if (!dataTable) return;\n",
              "\n",
              "          const docLinkHtml = 'Like what you see? Visit the ' +\n",
              "            '<a target=\"_blank\" href=https://colab.research.google.com/notebooks/data_table.ipynb>data table notebook</a>'\n",
              "            + ' to learn more about interactive tables.';\n",
              "          element.innerHTML = '';\n",
              "          dataTable['output_type'] = 'display_data';\n",
              "          await google.colab.output.renderOutput(dataTable, element);\n",
              "          const docLink = document.createElement('div');\n",
              "          docLink.innerHTML = docLinkHtml;\n",
              "          element.appendChild(docLink);\n",
              "        }\n",
              "      </script>\n",
              "    </div>\n",
              "  </div>\n",
              "  "
            ]
          },
          "metadata": {},
          "execution_count": 19
        },
        {
          "output_type": "stream",
          "name": "stdout",
          "text": [
            "Warning: Total number of columns (613) exceeds max_columns (20) limiting to first (20) columns.\n"
          ]
        }
      ]
    },
    {
      "cell_type": "code",
      "source": [],
      "metadata": {
        "id": "IsNfzw1V4Yv5"
      },
      "execution_count": null,
      "outputs": []
    }
  ]
}